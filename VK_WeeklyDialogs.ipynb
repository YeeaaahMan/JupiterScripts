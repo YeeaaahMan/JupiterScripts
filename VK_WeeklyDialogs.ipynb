{
 "cells": [
  {
   "cell_type": "code",
   "execution_count": 1,
   "metadata": {
    "collapsed": false
   },
   "outputs": [
    {
     "name": "stdout",
     "output_type": "stream",
     "text": [
      "Период: 2017-06-19 00:00 - 2017-06-26 00:00\n",
      "Файл:   VKweekly_2017-06-19_2017-06-26.xlsx\n"
     ]
    }
   ],
   "source": [
    "import requests, time\n",
    "import pandas as pd\n",
    "\n",
    "f = open(\"vk.key\")\n",
    "ACCESS_TOKEN = f.read()\n",
    "f.close()\n",
    "\n",
    "T = time.localtime() # struct_time\n",
    "Ts = time.mktime(time.localtime())\n",
    "#print(\"Now:\", time.strftime(\"%Y-%m-%d %H:%M:%S\", T) )\n",
    "\n",
    "Tstart = time.strftime(\"%Y-%m-%d 00:00\",time.localtime(Ts - 60*60*24 *(T.tm_wday+7) ))\n",
    "Tstop  = time.strftime(\"%Y-%m-%d 00:00\",time.localtime(Ts - 60*60*24 * T.tm_wday    ))\n",
    "#Tstart, Tstop = \"2017-01-01 0:00\", \"2017-06-01 00:00\" # ВАРИАНТ ДЛЯ УКАЗАНИЯ ИНТЕРВАЛА ВРУЧНУЮ.\n",
    "print(\"Период:\", Tstart, '-', Tstop )\n",
    "\n",
    "fileName = \"VKweekly_\" + Tstart.split(' ')[0] + '_' + Tstop.split(' ')[0] + '.xlsx'\n",
    "print(\"Файл:  \", fileName)\n",
    "\n",
    "Tstart = time.mktime(time.strptime(Tstart, \"%Y-%m-%d %H:%M\"))\n",
    "Tstop = time.mktime(time.strptime(Tstop, \"%Y-%m-%d %H:%M\"))"
   ]
  },
  {
   "cell_type": "code",
   "execution_count": 4,
   "metadata": {
    "collapsed": false
   },
   "outputs": [
    {
     "name": "stdout",
     "output_type": "stream",
     "text": [
      "Поиск ID первого сообщения.................\n",
      "ID первого сообщения - 251295\n",
      "2017-06-19 00:15:31\n"
     ]
    }
   ],
   "source": [
    "#поиск ID первого сообщения\n",
    "print(\"Поиск ID первого сообщения\", end='')\n",
    "P = {\"access_token\": ACCESS_TOKEN,\n",
    "         \"count\": 1, \n",
    "         \"version\":\"5.62\"\n",
    "        }\n",
    "R = requests.get(\"https://api.vk.com/method/messages.getDialogs?\", params = P)\n",
    "\n",
    "l = 1 # перовое / левое\n",
    "r = R.json()['response'][1]['mid'] # последнее / правое\n",
    "m = (r+l)//2 # середина\n",
    "#print(l, m, r)\n",
    "\n",
    "while r-l > 1:\n",
    "    P = {\"access_token\": ACCESS_TOKEN,\n",
    "         \"message_ids\": m,\n",
    "         \"preview_length\":0,\n",
    "        }\n",
    "    R = requests.get(\"https://api.vk.com/method/messages.getById?\", params = P)\n",
    "    response = R.json()\n",
    "    T = response['response'][1]['date']\n",
    "    #print(time.strftime(\"%Y-%m-%d %H:%M:%S\", time.localtime(response['response'][1]['date'])))\n",
    "\n",
    "    if Tstart < T:\n",
    "        r = m\n",
    "        m = (l+r)//2\n",
    "    else:\n",
    "        l = m\n",
    "        m = (l+r)//2\n",
    "        \n",
    "    #print(l, m, r, '\\n')\n",
    "    time.sleep(0.25)\n",
    "    print('.', end='')\n",
    "    \n",
    "startID = m+1\n",
    "P = {\"access_token\": ACCESS_TOKEN,\n",
    "         \"message_ids\": startID,\n",
    "         \"preview_length\":0,\n",
    "        }\n",
    "R = requests.get(\"https://api.vk.com/method/messages.getById?\", params = P)\n",
    "response = R.json()\n",
    "\n",
    "print(\"\\nID первого сообщения -\", startID)\n",
    "print(time.strftime(\"%Y-%m-%d %H:%M:%S\", time.localtime(response['response'][1]['date'])))\n",
    "\n",
    "\n"
   ]
  },
  {
   "cell_type": "code",
   "execution_count": 7,
   "metadata": {
    "collapsed": false
   },
   "outputs": [
    {
     "name": "stdout",
     "output_type": "stream",
     "text": [
      "Поиск ID последнего сообщения..................\n",
      "ID последнего сообщения -  254497\n",
      "2017-06-25 23:48:58\n"
     ]
    }
   ],
   "source": [
    "# поиск ID последнего сообщения\n",
    "print(\"Поиск ID последнего сообщения\", end='')\n",
    "P = {\"access_token\": ACCESS_TOKEN,\n",
    "         \"count\": 1, \n",
    "         \"version\":\"5.62\"\n",
    "        }\n",
    "R = requests.get(\"https://api.vk.com/method/messages.getDialogs?\", params = P)\n",
    "\n",
    "l = 1 # перовое / левое\n",
    "r = R.json()['response'][1]['mid'] # последнее / правое\n",
    "m = (r+l)//2 # середина\n",
    "#print(l, m, r)\n",
    "\n",
    "while r-l > 1:\n",
    "    P = {\"access_token\": ACCESS_TOKEN,\n",
    "         \"message_ids\": m,\n",
    "         \"preview_length\":0,\n",
    "        }\n",
    "    R = requests.get(\"https://api.vk.com/method/messages.getById?\", params = P)\n",
    "    response = R.json()\n",
    "    T = response['response'][1]['date']\n",
    "    #print(time.strftime(\"%Y-%m-%d %H:%M:%S\", time.localtime(response['response'][1]['date'])))\n",
    "\n",
    "    if Tstop < T:\n",
    "        r = m\n",
    "        m = (l+r)//2\n",
    "    else:\n",
    "        l = m\n",
    "        m = (l+r)//2\n",
    "        \n",
    "    #print(l, m, r, '\\n')\n",
    "    time.sleep(0.25)\n",
    "    print('.', end='')\n",
    "    \n",
    "stopID = m\n",
    "P = {\"access_token\": ACCESS_TOKEN,\n",
    "         \"message_ids\": stopID,\n",
    "         \"preview_length\":0,\n",
    "        }\n",
    "R = requests.get(\"https://api.vk.com/method/messages.getById?\", params = P)\n",
    "response = R.json()\n",
    "\n",
    "print(\"\\nID последнего сообщения - \", stopID)\n",
    "print(time.strftime(\"%Y-%m-%d %H:%M:%S\", time.localtime(response['response'][1]['date'])))\n",
    "\n",
    "\n"
   ]
  },
  {
   "cell_type": "code",
   "execution_count": 6,
   "metadata": {
    "collapsed": false
   },
   "outputs": [
    {
     "data": {
      "text/plain": [
       "{'error': {'error_code': 10,\n",
       "  'error_msg': 'Internal server error: Database problems, try later',\n",
       "  'request_params': [{'key': 'oauth', 'value': '1'},\n",
       "   {'key': 'method', 'value': 'messages.getById'},\n",
       "   {'key': 'preview_length', 'value': '0'},\n",
       "   {'key': 'message_ids', 'value': '223152'}]}}"
      ]
     },
     "execution_count": 6,
     "metadata": {},
     "output_type": "execute_result"
    }
   ],
   "source": [
    "response"
   ]
  },
  {
   "cell_type": "code",
   "execution_count": null,
   "metadata": {
    "collapsed": true
   },
   "outputs": [],
   "source": []
  },
  {
   "cell_type": "code",
   "execution_count": null,
   "metadata": {
    "collapsed": true
   },
   "outputs": [],
   "source": []
  },
  {
   "cell_type": "code",
   "execution_count": null,
   "metadata": {
    "collapsed": true
   },
   "outputs": [],
   "source": []
  },
  {
   "cell_type": "code",
   "execution_count": 14,
   "metadata": {
    "collapsed": false
   },
   "outputs": [
    {
     "name": "stdout",
     "output_type": "stream",
     "text": [
      "Формирование списка пользователей................................!\n",
      "Формирование базы имён..!\n"
     ]
    }
   ],
   "source": [
    "# выгружаю сообщения с startID до stoptID и формирую список\n",
    "print(\"Формирование списка пользователей\", end='')\n",
    "MESSAGES = list()\n",
    "strt = startID\n",
    "\n",
    "while True:\n",
    "    if stopID - strt > 100:\n",
    "        message_ids = ','.join( [str(i) for i in range(strt,strt+100)] )\n",
    "        strt += 100\n",
    "        \n",
    "        P = {\"access_token\": ACCESS_TOKEN,\n",
    "             \"message_ids\": message_ids,\n",
    "             \"preview_length\":0,\n",
    "            }\n",
    "        R = requests.get(\"https://api.vk.com/method/messages.getById?\", params = P)\n",
    "        MESSAGES.extend( R.json()['response'][1:])\n",
    "        \n",
    "        \n",
    "    else:\n",
    "        message_ids = ','.join( [str(i) for i in range(strt,stopID+1)] )\n",
    "        \n",
    "        P = {\"access_token\": ACCESS_TOKEN,\n",
    "             \"message_ids\": message_ids,\n",
    "             \"preview_length\":0,\n",
    "            }\n",
    "        R = requests.get(\"https://api.vk.com/method/messages.getById?\", params = P)\n",
    "        MESSAGES.extend( R.json()['response'][1:])\n",
    "        print('!')\n",
    "        break\n",
    "    time.sleep(1)\n",
    "    #input()\n",
    "    print('.', end='')\n",
    "    \n",
    "# получили список юзеров\n",
    "Users = list(frozenset( [u['uid'] for u in MESSAGES ] ))\n",
    "\n",
    "# сформируем словарь имён юзеров\n",
    "NAMES = dict()\n",
    "print(\"Формирование базы имён\", end='')\n",
    "\n",
    "startU = 0\n",
    "stopU = len(Users)+1\n",
    "\n",
    "while stopU - startU > 200:\n",
    "    user_ids = ','.join( [str(u) for u in Users[startU : startU + 200] ] )\n",
    "    startU += 200\n",
    "\n",
    "    P = {\"user_ids\": user_ids,\n",
    "         \"version\":\"5.62\"\n",
    "        }\n",
    "    R = requests.get(\"https://api.vk.com/method/users.get?\", params = P)\n",
    "    r = R.json()[\"response\"]\n",
    "    for item in r:\n",
    "        NAMES[item[\"uid\"]] = item[\"first_name\"] + ' ' + item[\"last_name\"]\n",
    "    print('.', end='')\n",
    "    time.sleep(0.25)\n",
    "\n",
    "user_ids = ','.join( [str(u) for u in  Users[startU : stopU] ] )\n",
    "P = {\"user_ids\": user_ids,\n",
    "     \"version\":\"5.62\"\n",
    "    }\n",
    "R = requests.get(\"https://api.vk.com/method/users.get?\", params = P)\n",
    "r = R.json()[\"response\"]\n",
    "for item in r:\n",
    "    NAMES[item[\"uid\"]] = item[\"first_name\"] + ' ' + item[\"last_name\"]\n",
    "print('!')\n",
    "NAMES[-100045377] = \"Центр поддержки Wargaming.net\""
   ]
  },
  {
   "cell_type": "code",
   "execution_count": 16,
   "metadata": {
    "collapsed": false
   },
   "outputs": [
    {
     "name": "stdout",
     "output_type": "stream",
     "text": [
      "Началась загрузка диалогов. Процесс может занять несколько минут...\n",
      "('.' - диалог загружен; ',' - диалог превышает 200 сообщений )\n",
      "....................................................................,,...............................\n",
      "....,.........................................,...........................,...........................\n",
      ".........................................................,.............................,,,.............\n",
      "............,,...,.........................,................,......,,....,............,.....................\n",
      "........................................................!\n"
     ]
    }
   ],
   "source": [
    "print(\"\"\"Началась загрузка диалогов. Процесс может занять несколько минут...\n",
    "('.' - диалог загружен; ',' - диалог превышает 200 сообщений )\"\"\")\n",
    "# формирую столбцы будущей таблицы\n",
    "Date = list() # 'date'\n",
    "UserID = list() # 'uid'\n",
    "Name = list() # Имя юзера\n",
    "Admin = list() # 'out'\n",
    "Dialog = list() # Номер диалога\n",
    "Message = list() # 'body'\n",
    "\n",
    "# Прохожусь по списку юзеров\n",
    "i = 1\n",
    "for user in Users:\n",
    "    #запрашиваю историю диалога\n",
    "    offset = 0\n",
    "    count = 200\n",
    "    while True:\n",
    "        P = {\"access_token\": ACCESS_TOKEN,\n",
    "             \"user_id\": user,\n",
    "             \"offset\": offset,\n",
    "             \"count\": count, # <=200\n",
    "             \"version\":\"5.62\"\n",
    "            }\n",
    "        R = requests.get(\"https://api.vk.com/method/messages.getHistory?\", params = P)\n",
    "        r = R.json()\n",
    "        time.sleep(0.25)\n",
    "        \n",
    "        if len(r['response']) == 1:\n",
    "            print('?', end='')\n",
    "            break\n",
    "        \n",
    "        for message in r['response'][1:]:\n",
    "            if startID < message['mid'] < stopID:\n",
    "                Date.append( time.strftime(\"%Y-%m-%d %H:%M:%S\", time.localtime( message['date'] )) )\n",
    "                UserID.append( message['uid'] ) \n",
    "                try:\n",
    "                    Name.append( NAMES[message['uid']] )\n",
    "                except:\n",
    "                    P = {\"user_ids\": message['uid'],\n",
    "                         \"version\":\"5.62\"\n",
    "                        }\n",
    "                    R = requests.get(\"https://api.vk.com/method/users.get?\", params = P)\n",
    "                    r2 = R.json()[\"response\"]\n",
    "                    time.sleep(0.25)\n",
    "                    for item in r2:\n",
    "                        NAMES[item[\"uid\"]] = item[\"first_name\"] + ' ' + item[\"last_name\"]\n",
    "                    Name.append( NAMES[message['uid']] )\n",
    "                Admin.append( message['out'] )\n",
    "                Dialog.append( user ) \n",
    "                Message.append( message['body'] ) \n",
    "            else:\n",
    "                break\n",
    "                \n",
    "        #if r['response'][-1]['mid'] < startID: # \n",
    "        if (r['response'][0] - offset)//count == 0: # если в хвосте списка сообщений меннее 200, останавливается\n",
    "            break\n",
    "        else: # если нет, делаем новый запрос со сдвигом count\n",
    "            offset += count\n",
    "            print(',', end='')\n",
    "    \n",
    "    # это просто индикатор прогресса\n",
    "    if i%100 == 0:\n",
    "        print('')\n",
    "    else:\n",
    "        print('.', end='')\n",
    "    i += 1\n",
    "print('!')\n"
   ]
  },
  {
   "cell_type": "code",
   "execution_count": 17,
   "metadata": {
    "collapsed": false
   },
   "outputs": [
    {
     "name": "stdout",
     "output_type": "stream",
     "text": [
      "Формирование таблицы данных.\n",
      "Запись полученных данных в файл: готово!\n"
     ]
    }
   ],
   "source": [
    "print(\"Формирование таблицы данных.\")\n",
    "dataframe = pd.DataFrame( {\"Date\" : Date, # 'date'\n",
    "                           \"UserID\" : UserID, # 'uid'\n",
    "                           \"Name\" : Name, # Имя юзера\n",
    "                           \"Admin\" : Admin, # 'out'\n",
    "                           \"Dialog\" : Dialog, # Номер диалога\n",
    "                           \"Message\" : Message # 'body'\n",
    "                          } )\n",
    "dataframe[\"Date\"] = dataframe.Date.apply(pd.to_datetime) \n",
    "#dataframe.info()\n",
    "dataframe = dataframe[[\"Dialog\", \"Date\", \"UserID\", \"Name\", \"Admin\", \"Message\"]] # перемещение столбцов\n",
    "dataframe.sort_values(by=[\"Dialog\", \"Date\"], inplace=True) # сортировка\n",
    "dataframe.head(10)\n",
    "\n",
    "print(\"Запись полученных данных в файл: \", end='')\n",
    "#удаляем 'https://' и 'http://'\n",
    "dataframe[\"Message\"] = dataframe[\"Message\"].map(lambda x: x.replace('https://', ''))\n",
    "dataframe[\"Message\"] = dataframe[\"Message\"].map(lambda x: x.replace('http://', ''))\n",
    "\n",
    "# Сохраняем полученные данные в файл\n",
    "dataframe.to_excel(fileName, index=False)\n",
    "print(\"готово!\")"
   ]
  },
  {
   "cell_type": "code",
   "execution_count": null,
   "metadata": {
    "collapsed": true
   },
   "outputs": [],
   "source": []
  },
  {
   "cell_type": "code",
   "execution_count": 18,
   "metadata": {
    "collapsed": false
   },
   "outputs": [
    {
     "name": "stdout",
     "output_type": "stream",
     "text": [
      "Рейтинг админов:\n",
      "Юлия Тараканова    393\n",
      "Злата Рублева      332\n",
      "Азур Мягкий        188\n",
      "Юлия Меньшикова     15\n",
      "Максим Наумов        6\n",
      "Name: Name, dtype: int64\n",
      "\n",
      "Cообщений юзеров: 1672\n",
      "Уникальных юзеров: 399\n"
     ]
    }
   ],
   "source": [
    "# рейтинг админов\n",
    "df_admin = dataframe[dataframe[\"Admin\"] == 1][\"Name\"].value_counts()\n",
    "print(\"Рейтинг админов:\")\n",
    "print(df_admin)\n",
    "\n",
    "# рейтинг игроков\n",
    "df_users = dataframe[dataframe[\"Admin\"] == 0][\"Name\"].value_counts()\n",
    "#df_users.head(20)\n",
    "\n",
    "print(\"\\nCообщений юзеров:\", df_users.sum())\n",
    "print(\"Уникальных юзеров:\", df_users.shape[0])"
   ]
  },
  {
   "cell_type": "code",
   "execution_count": null,
   "metadata": {
    "collapsed": true
   },
   "outputs": [],
   "source": []
  }
 ],
 "metadata": {
  "anaconda-cloud": {},
  "kernelspec": {
   "display_name": "Python [default]",
   "language": "python",
   "name": "python3"
  },
  "language_info": {
   "codemirror_mode": {
    "name": "ipython",
    "version": 3
   },
   "file_extension": ".py",
   "mimetype": "text/x-python",
   "name": "python",
   "nbconvert_exporter": "python",
   "pygments_lexer": "ipython3",
   "version": "3.5.2"
  }
 },
 "nbformat": 4,
 "nbformat_minor": 1
}
