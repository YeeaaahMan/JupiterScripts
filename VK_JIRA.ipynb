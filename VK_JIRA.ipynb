{
 "cells": [
  {
   "cell_type": "code",
   "execution_count": 1,
   "metadata": {},
   "outputs": [
    {
     "name": "stdout",
     "output_type": "stream",
     "text": [
      "Логин: s_litvinchuk\n",
      "Пароль: ········\n"
     ]
    }
   ],
   "source": [
    "from jira import JIRA, JIRAError\n",
    "import getpass, re, time\n",
    "\n",
    "print(\"Логин:\", getpass.getuser())\n",
    "j = JIRA(server=\"https://jira.wargaming.net\", basic_auth=(getpass.getuser(), getpass.getpass('Пароль: ')))"
   ]
  },
  {
   "cell_type": "code",
   "execution_count": 2,
   "metadata": {
    "scrolled": false
   },
   "outputs": [
    {
     "name": "stdout",
     "output_type": "stream",
     "text": [
      "2017-07-17 - 2017-07-24 \n",
      "\n",
      "Bill\n",
      "\t WSR-52530 [BS] Логирование работы в группе ЦПП ВК. Июль 2017\n",
      "\t WSR-52884 [BS] Логирование работы в группе ЦПП ВК. Август 2017\n",
      "                            Время(ч)    ЧЧ:ММ\n",
      "         Dmitriy Z             0.43      0:26\n",
      "           Vitali T            0.4       0:24\n",
      "              Irina K          0.48      0:29\n",
      "           Andrei B            1.3       1:18\n",
      "        Viktoryia N            0.23      0:14\n",
      "       Aleksandr R             0.68      0:41\n",
      "           Maksim S            0.17      0:10\n",
      "         Elena L               1.07      1:04\n",
      "        Dzianis V              0.35      0:21\n",
      "           Pavel Y             1.65      1:39\n",
      "             Siarhei L         0.18      0:11\n",
      "       Vitali M                0.72      0:43\n",
      "            Darya C            1.17      1:10\n",
      "         Svetlana B            0.53      0:32\n",
      "        Aleksey T              1.77      1:46\n",
      "  Anastasiya S                 0.42      0:25\n",
      "        Dzmitry B              0.9       0:54\n",
      "            Ihar Y             0.63      0:38\n",
      "              Oksana K         0.42      0:25\n",
      "                    Итого:     13.5     13:30\n",
      "\n",
      "Tech\n",
      "\t WSR-52542 [TS] Логирование работы в группе ЦПП ВК. Июль 2017\n",
      "\t WSR-52886 [TS] Логирование работы в группе ЦПП ВК. Август 2017\n",
      "                            Время(ч)    ЧЧ:ММ\n",
      "        Sergei Y               4.97      4:58\n",
      "         Victor K              4.0       4:00\n",
      "           Gleb S              7.15      7:09\n",
      "         Vladimir S            1.33      1:20\n",
      "             Roman N           5.93      5:56\n",
      "             Yuriy R           3.78      3:47\n",
      "            Mikalai M          1.95      1:57\n",
      "                    Итого:    29.12     29:07\n",
      "\n",
      "Rule\n",
      "\t WSR-52451 [RS] Логирование работы в ВК. Июль 2017\n",
      "\t WSR-52913 [RS] Логирование работы в ВК. Август 2017\n",
      "                            Время(ч)    ЧЧ:ММ\n",
      "        Nikolay B              1.48      1:29\n",
      "            Aleksey D          0.88      0:53\n",
      "            Ilya K             0.95      0:57\n",
      "           Yan T               0.38      0:23\n",
      "          Aleksandr K          0.83      0:50\n",
      "         Roman K               0.38      0:23\n",
      "             Dmitriy B         0.37      0:22\n",
      "         Aleksey K             0.43      0:26\n",
      "         Yauheni A             0.17      0:10\n",
      "         Maksim S              0.62      0:37\n",
      "              Oleg S           0.9       0:54\n",
      "    Aleksandr B                0.68      0:41\n",
      "                    Итого:     8.08      8:05\n",
      "\n",
      "Game\n",
      "\t WSR-52920 [GS] Логирование работы в группе ЦПП ВК. Август 2017\n",
      "\t WSR-52951 [GS] Логирование работы в группе ЦПП ВК. Сентябрь 2017\n",
      "                            Время(ч)    ЧЧ:ММ\n",
      "                    Итого:     0.0       0:00\n",
      "\n",
      "\n",
      "Всего времени по всем отделам: 50.7ч \t [50:42]\n"
     ]
    }
   ],
   "source": [
    "T = time.localtime() # struct_time\n",
    "Ts = time.mktime(time.localtime())\n",
    "#print(\"Now:\", time.strftime(\"%Y-%m-%d %H:%M:%S\", T) )\n",
    "\n",
    "Tstart = time.strftime(\"%Y-%m-%dT08:00:00:00+0000\",time.localtime(Ts - 60*60*24 *(T.tm_wday+7) ))\n",
    "Tstop  = time.strftime(\"%Y-%m-%dT08:00:00:00+0000\",time.localtime(Ts - 60*60*24 * T.tm_wday    ))\n",
    "#Tstart = \"2017-02-20T08:00:00.000+0000\"\n",
    "#Tstop  = \"2017-02-27T08:00:00.000+0000\"\n",
    "\n",
    "print(Tstart[:10], '-', Tstop[:10], '\\n' )\n",
    "\n",
    "ISSUES = {\"Game\": \"WSR-49208\",\n",
    "          \"Bill\": \"WSR-49209\",\n",
    "          \"Tech\": \"WSR-49210\",\n",
    "          \"Rule\": \"WSR-49211\" }\n",
    "All_Time = 0\n",
    "\n",
    "for dep in ISSUES:\n",
    "    print(dep)\n",
    "    staffer = dict()\n",
    "    main_task = j.issue(ISSUES[dep])\n",
    "    subtasks = [subt.key for subt in main_task.fields.subtasks[-2:]] # -2: = два последних сабтаска\n",
    "    \n",
    "    for issue_id in subtasks:\n",
    "        issue = j.issue(issue_id)\n",
    "        print('\\t', issue_id, issue.fields.summary)\n",
    "        \n",
    "        for worklog in j.worklogs(issue_id): # issue.fields.worklog.worklogs returns only 20 fields.\n",
    "            if Tstart <= worklog.started < Tstop:\n",
    "                #print(worklog.created)\n",
    "                try:\n",
    "                    name = str(worklog.author.displayName)\n",
    "                    staffer[name] = staffer.setdefault(name, 0) + worklog.timeSpentSeconds\n",
    "                except:\n",
    "                    print(worklog.author)\n",
    "                    continue\n",
    "    print( \"{0:<26}  {1:<10} {2:>6}\".format(\" \", \"Время(ч)\", \"ЧЧ:ММ\" ) )\n",
    "    for k in staffer:\n",
    "        H = round(staffer[k]/3600, 2)\n",
    "        hhmm = \"{1}:{2:0>2}\".format(k, staffer[k]//3600, round((staffer[k]%3600)/60) )\n",
    "        print(\"{0:>26}  {1:^10} {2:>6}\".format(k, H, hhmm) )\n",
    "    \n",
    "    Stuffer_Time = sum(staffer.values())\n",
    "    H = Stuffer_Time\n",
    "    hhmm = \"{0}:{1:0>2}\".format( H//3600, round((H%3600)/60 )) # округляем минуты, чтобы учесть влияние секунд\n",
    "    print( \"{0:>26}  {1:^10} {2:>6}\\n\".format(\"Итого:\", round(H/3600, 2), hhmm ) )\n",
    "    \n",
    "    All_Time += Stuffer_Time\n",
    "    \n",
    "print(\"\\nВсего времени по всем отделам: {0}ч \\t [{1}:{2:0>2}]\".format(round(All_Time/3600, 2), All_Time//3600, round((All_Time%3600)/60) ) )"
   ]
  },
  {
   "cell_type": "code",
   "execution_count": null,
   "metadata": {
    "collapsed": true
   },
   "outputs": [],
   "source": []
  },
  {
   "cell_type": "code",
   "execution_count": 3,
   "metadata": {
    "scrolled": false
   },
   "outputs": [
    {
     "name": "stdout",
     "output_type": "stream",
     "text": [
      "Game\n",
      "\t WSR-49405 [GS] Логирование работы в группе ЦПП ВК. Март 2017\n",
      "\t WSR-49876 [GS] Логирование работы в группе ЦПП ВК. АПРЕЛЬ 2017\n",
      "\t WSR-50144 Апрель 2017, тим 6 - [GS] Логирование работы в группе ЦПП ВК. Месяц 2017\n",
      "\t WSR-50145 [GS] Логирование работы в группе ЦПП ВК. Апрель 2017\n",
      "\t WSR-50202 [GS] Логирование работы в группе ЦПП ВК. апрель 2017\n",
      "                            Время(ч)    ЧЧ:ММ\n",
      "        Denis Y                9.38      9:23\n",
      "           Arseniy T           4.22      4:13\n",
      "     Aleksandr A               2.83      2:50\n",
      "           Andrey S            2.57      2:34\n",
      "             Artem M           3.5       3:30\n",
      "             Vadim I           2.02      2:01\n",
      "              Artem M          1.43      1:26\n",
      "               Artur V         2.9       2:54\n",
      "             Andrei B          9.75      9:45\n",
      "             Andrei B          1.83      1:50\n",
      "        Pavel R                5.73      5:44\n",
      "        Kseniya B              3.1       3:06\n",
      "            Igor V             8.33      8:20\n",
      "       Ruslan L                4.03      4:02\n",
      "      Aliaksei Y               2.12      2:07\n",
      "          Georgiy G            3.43      3:26\n",
      "                    Итого:    67.18     67:11\n"
     ]
    }
   ],
   "source": [
    "# BACKUP: Упрощённый вариант.\n",
    "Tstart = \"2017-03-20T08:00:00.000+0000\"\n",
    "Tstop  = \"2017-03-27T08:00:00.000+0000\"\n",
    "\n",
    "ISSUES = {\"Game\": ['WSR-49405','WSR-49876', 'WSR-50144', 'WSR-50145', 'WSR-50202' ],}\n",
    "\n",
    "for dep in ISSUES:\n",
    "    print(dep)\n",
    "    staffer = dict()\n",
    "    for issue_id in ISSUES[dep]:\n",
    "        issue = j.issue(issue_id)\n",
    "        print('\\t', issue_id, issue.fields.summary)\n",
    "        \n",
    "        for worklog in j.worklogs(issue_id): # issue.fields.worklog.worklogs returns only 20 fields.\n",
    "            if Tstart <= worklog.started < Tstop:\n",
    "                #print(worklog.created)\n",
    "                try:\n",
    "                    name = str(worklog.author.displayName)\n",
    "                    staffer[name] = staffer.setdefault(name, 0) + worklog.timeSpentSeconds\n",
    "                except:\n",
    "                    print(worklog.author)\n",
    "                    continue\n",
    "    print( \"{0:<26}  {1:<10} {2:>6}\".format(\" \", \"Время(ч)\", \"ЧЧ:ММ\" ) )\n",
    "    for k in staffer:\n",
    "        #print(k, round(staffer[k]/3600, 2), 'h')\n",
    "        H = round(staffer[k]/3600, 2)\n",
    "        hhmm = \"{1}:{2:0>2}\".format(k, staffer[k]//3600, round((staffer[k]%3600)/60) )\n",
    "        print(\"{0:>26}  {1:^10} {2:>6}\".format(k, H, hhmm) )\n",
    "    #print(\"\\nВсего времени затрачено: \", round(sum(staffer.values())/3600, 2), 'h\\n')\n",
    "    H = sum(staffer.values())\n",
    "    hhmm = \"{0}:{1:0>2}\".format( H//3600, round((H%3600)/60 ))\n",
    "    print( \"{0:>26}  {1:^10} {2:>6}\".format(\"    Итого:\", round(H/3600, 2), hhmm ) )\n",
    "    #print(\"\\nВсего времени затрачено: {0}:{1:0>2}\\n\".format( sum(staffer.values())//3600, round((sum(staffer.values())%3600)/60) ) ) "
   ]
  },
  {
   "cell_type": "code",
   "execution_count": null,
   "metadata": {
    "collapsed": true
   },
   "outputs": [],
   "source": []
  }
 ],
 "metadata": {
  "anaconda-cloud": {},
  "kernelspec": {
   "display_name": "Python 3",
   "language": "python",
   "name": "python3"
  },
  "language_info": {
   "codemirror_mode": {
    "name": "ipython",
    "version": 3
   },
   "file_extension": ".py",
   "mimetype": "text/x-python",
   "name": "python",
   "nbconvert_exporter": "python",
   "pygments_lexer": "ipython3",
   "version": "3.5.3"
  }
 },
 "nbformat": 4,
 "nbformat_minor": 1
}
